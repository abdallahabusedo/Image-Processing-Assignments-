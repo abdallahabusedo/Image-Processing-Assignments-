{
 "cells": [
  {
   "cell_type": "markdown",
   "metadata": {},
   "source": [
    "# Lab 9 - Texture Analysis"
   ]
  },
  {
   "cell_type": "markdown",
   "metadata": {},
   "source": [
    "## Part A\n",
    "\n",
    "### Objective\n",
    "\n",
    "The goal of this part is to segment the following photo into 3 segments: \n",
    "1. a segment for clothes with a jeans texture\n",
    "2. a segment for clothes with a cotton texture\n",
    "3. a segment for the background\n",
    "\n",
    "<img src='test.jpg' width=100px heigth=300px></img>"
   ]
  },
  {
   "cell_type": "code",
   "execution_count": 11,
   "metadata": {},
   "outputs": [],
   "source": [
    "# All the imports you will need in the whole lab\n",
    "from skimage.feature import greycomatrix, greycoprops\n",
    "from skimage import io\n",
    "from skimage.color import rgb2gray\n",
    "import matplotlib.pyplot as plt\n",
    "import os\n",
    "import numpy as np"
   ]
  },
  {
   "cell_type": "markdown",
   "metadata": {},
   "source": [
    "## Section 1\n",
    "\n",
    "In this section, you will extract features from image samples of the jeans and cotton texture using GLCM, then we will plot our feature space to see if our features are able to differentiate between the textures of jeans, cotton, and background. "
   ]
  },
  {
   "cell_type": "markdown",
   "metadata": {},
   "source": [
    "### TODO Implement get_glcm_features\n",
    "\n",
    "You will need the following two functions:\n",
    "\n",
    "greycomatrix, doc link -> https://scikit-image.org/docs/dev/api/skimage.feature.html#greycomatrix <br>\n",
    "greycoprops, doc link -> https://scikit-image.org/docs/dev/api/skimage.feature.html#skimage.feature.greycoprops"
   ]
  },
  {
   "cell_type": "code",
   "execution_count": 15,
   "metadata": {},
   "outputs": [
    {
     "data": {
      "text/plain": [
       "(array([[146.80742596]]), array([[0.68616696]]))"
      ]
     },
     "execution_count": 15,
     "metadata": {},
     "output_type": "execute_result"
    }
   ],
   "source": [
    "def get_glcm_features(gray_scale_img):\n",
    "    \"\"\"\n",
    "    Given a grayscale image with graylevels from 0 - 255, this function returns the contrast\n",
    "    and the homogeneity features of the image with the help of GLCM\n",
    "    \"\"\"\n",
    "    img = np.array(gray_scale_img)\n",
    "    GLCM = greycomatrix(img,[1],[0])\n",
    "    contrast = greycoprops(GLCM,'contrast')\n",
    "    homo = greycoprops(GLCM,'homogeneity')  \n",
    "    # Tip: Make sure you understand the input-output of everything you write, \n",
    "    # not doing that results in bugs that makes you take a lot of time solving the lab\n",
    "    \n",
    "    return contrast, homo\n",
    "\n",
    "img = io.imread('test.jpg')\n",
    "img = rgb2gray(img)\n",
    "img  = img * 255\n",
    "img = img.astype('uint8')\n",
    "\n",
    "get_glcm_features(img)\n"
   ]
  },
  {
   "cell_type": "markdown",
   "metadata": {},
   "source": [
    "The following part will extract the contrast and homogeneity of samples of jeans and cotton in the folder \"imgs_patches\" using your function. So, for each sample image, we will have a point in a 2D feature space. Then, it will plot this feature space."
   ]
  },
  {
   "cell_type": "code",
   "execution_count": 12,
   "metadata": {},
   "outputs": [
    {
     "data": {
      "image/png": "[encoded data removed]",
      "text/plain": [
       "<Figure size 936x576 with 1 Axes>"
      ]
     },
     "metadata": {
      "needs_background": "light"
     },
     "output_type": "display_data"
    }
   ],
   "source": [
    "# You don't need to understand how this function works\n",
    "def get_fname_images_tuple(directory):\n",
    "    fnames = os.listdir(directory)\n",
    "    to_return = []\n",
    "    for fn in fnames:\n",
    "        path = os.path.join(directory, fn)\n",
    "        gray_scale_image = (rgb2gray(io.imread(path)) * 255).astype(np.uint8)\n",
    "        to_return.append((fn, gray_scale_image))\n",
    "        \n",
    "    return to_return\n",
    "\n",
    "# You don't need to understand how this function works\n",
    "def plot_2d_features_with_names(names_fts_list, xlabel, ylabel):\n",
    "    x = [names_fts[1][0] for names_fts in names_fts_list]\n",
    "    y = [names_fts[1][1] for names_fts in names_fts_list]\n",
    "    txts = [names_fts[0] for names_fts in names_fts_list]\n",
    "    \n",
    "    fig, ax = plt.subplots()\n",
    "    ax.scatter(x, y)\n",
    "\n",
    "    for i, txt in enumerate(txts):\n",
    "        ax.annotate(txt, (x[i], y[i]))\n",
    "    ax.grid()\n",
    "    ax.set_xlabel(xlabel)\n",
    "    ax.set_ylabel(ylabel)\n",
    "    fig = plt.gcf()\n",
    "    fig.set_size_inches(13, 8)\n",
    "    \n",
    "    \n",
    "fn_img_list = get_fname_images_tuple(r'imgs_patches')\n",
    "\n",
    "fn_ft_list = []\n",
    "for fn, img in fn_img_list:\n",
    "    fn_ft_list.append((fn, get_glcm_features(img)))\n",
    "    \n",
    "plot_2d_features_with_names(fn_ft_list, 'contrast', 'homogeneity')"
   ]
  },
  {
   "cell_type": "markdown",
   "metadata": {},
   "source": [
    "## Section 2\n",
    "\n",
    "You should have noticed that the previous section showed us that we can differentiate between jeans, cotton, & background patches using contrast and homogeneity. So, in this section, we will classify an unknown patch into one of those categories using a simple rule-based classifier. This will make us able to segment an image."
   ]
  },
  {
   "cell_type": "code",
   "execution_count": 76,
   "metadata": {},
   "outputs": [],
   "source": [
    "# TODO implement this function\n",
    "\n",
    "def classify_patch(contrast, homo):\n",
    "    \"\"\"\n",
    "    Given the contrast and homogeneity values of a certain image patch, this function \n",
    "    will return the class of the patch, i.e either 'jeans', 'cotton', or 'background'\n",
    "    \"\"\"\n",
    "    # Hint: We can decide whether the patch is background or not by simply checking 'if' the homogeneity is greater than 0.6\n",
    "    if homo > 0.6 and contrast <1:\n",
    "        return 'background'\n",
    "    elif contrast > 145 and homo < 0.6: \n",
    "        return 'jeans'\n",
    "    else:\n",
    "        return 'cotton'"
   ]
  },
  {
   "cell_type": "markdown",
   "metadata": {},
   "source": [
    "### TODO Complete todos in segment_img\n",
    "\n",
    "This function is given an RGB image, and returns the segmented image coloring jeans patches in green, cotton patches in red, and the background in blue. Your final output should look like the following image:\n",
    "\n",
    "<img src='target_output.jpg' width=100px heigth=300px></img>"
   ]
  },
  {
   "cell_type": "code",
   "execution_count": 77,
   "metadata": {},
   "outputs": [],
   "source": [
    "def segment_img(image):\n",
    "    img = image.copy()\n",
    "    patch_height = patch_width = 50\n",
    "    \n",
    "    # TODO complete the following skeleton\n",
    "    # loop on the image patch by patch\n",
    "    for i in range(0, img.shape[0]//patch_height):\n",
    "        for j in range(0, img.shape[1]//patch_width):\n",
    "            patch = img[i*patch_height:(i+1)*patch_height,j*patch_width:(j+1)*patch_width]\n",
    "            patch_grayscale = (rgb2gray(patch) * 255).astype(np.uint8)\n",
    "            \n",
    "            contrast, homogeneity = get_glcm_features(patch_grayscale)\n",
    "            classification = classify_patch(contrast,homogeneity)\n",
    "            \n",
    "            if classification == 'cotton':\n",
    "                patch[:,:, 0] = 255\n",
    "            elif classification == 'jeans':\n",
    "                patch[:,:, 1] = 255\n",
    "            else:\n",
    "                patch[:,:,2] = 255\n",
    "                \n",
    "    return img"
   ]
  },
  {
   "cell_type": "code",
   "execution_count": 78,
   "metadata": {},
   "outputs": [
    {
     "data": {
      "text/plain": [
       "<matplotlib.image.AxesImage at 0x7f24955c1ee0>"
      ]
     },
     "execution_count": 78,
     "metadata": {},
     "output_type": "execute_result"
    },
    {
     "data": {
      "image/png": "[encoded data removed]",
      "text/plain": [
       "<Figure size 432x288 with 1 Axes>"
      ]
     },
     "metadata": {
      "needs_background": "light"
     },
     "output_type": "display_data"
    }
   ],
   "source": [
    "# Testing your work\n",
    "image = io.imread('test.jpg')\n",
    "segmented_image = segment_img(image)\n",
    "io.imshow(segmented_image)"
   ]
  },
  {
   "cell_type": "markdown",
   "metadata": {},
   "source": [
    "## Part B - Bonus - 1 Mark\n",
    "\n",
    "You are required to implement your own function that computes the LBP histogram of a grayscale image (return to lecture slides for reference attached in this lab folder).\n",
    "\n",
    "#### Note: you are allowed not to compute the LBP for the image border pixels."
   ]
  },
  {
   "cell_type": "code",
   "execution_count": null,
   "metadata": {},
   "outputs": [],
   "source": []
  },
  {
   "cell_type": "code",
   "execution_count": 154,
   "metadata": {},
   "outputs": [],
   "source": [
    "def get_lbp_hist(g_img):\n",
    "    result = g_img.copy()\n",
    "    for i in range (1,g_img.shape[0]-1):\n",
    "        for j in range(1,g_img.shape[1]-1):\n",
    "            lbp= ''\n",
    "            if g_img[i-1,j-1] > g_img[i,j]:\n",
    "                lbp += '1'\n",
    "            else: \n",
    "                lbp += '0'\n",
    "            if g_img[i-1,j] > g_img[i,j]:\n",
    "                lbp += '1'\n",
    "            else: \n",
    "                lbp += '0'\n",
    "            if g_img[i-1,j+1] > g_img[i,j]:\n",
    "                lbp += '1'\n",
    "            else: \n",
    "                lbp += '0'\n",
    "            if g_img[i,j+1] > g_img[i,j]:\n",
    "                lbp += '1'\n",
    "            else: \n",
    "                lbp += '0'\n",
    "            if g_img[i+1,j+1] > g_img[i,j]:\n",
    "                lbp += '1'\n",
    "            else: \n",
    "                lbp += '0'\n",
    "            if g_img[i+1,j] > g_img[i,j]:\n",
    "                lbp += '1'\n",
    "            else: \n",
    "                lbp += '0'\n",
    "            if g_img[i+1,j-1] > g_img[i,j]:\n",
    "                lbp += '1'\n",
    "            else: \n",
    "                lbp += '0'\n",
    "            if g_img[i,j-1] > g_img[i,j]:\n",
    "                lbp += '1'\n",
    "            else: \n",
    "                lbp += '0'\n",
    "            result[i,j]= int(lbp,2)\n",
    "    hist = np.zeros((256,),dtype = int)\n",
    "    for i in range(256): \n",
    "        hist[i] = result[result==i].size\n",
    "            \n",
    "    return hist"
   ]
  },
  {
   "cell_type": "code",
   "execution_count": 155,
   "metadata": {},
   "outputs": [
    {
     "data": {
      "text/plain": [
       "(array([0., 0., 0., 0., 0., 0., 0., 1., 0., 0., 0., 0., 0., 0., 1., 0., 1.,\n",
       "        0., 0., 0., 0., 2., 0., 0., 3., 0., 3., 0., 0., 1., 1., 1., 1., 3.,\n",
       "        2., 1., 0., 0., 1., 0., 0., 0., 0., 1., 1., 0., 1., 0., 1., 0., 0.,\n",
       "        0., 1., 1., 0., 1., 0., 0., 0., 3., 0., 0., 0., 0., 1., 0., 0., 0.,\n",
       "        0., 0., 0., 0., 0., 1., 1., 1., 0., 0., 1., 0., 0., 1., 0., 0., 0.,\n",
       "        1., 0., 0., 0., 0., 1., 1., 1., 1., 1., 0., 0., 0., 0., 0., 1., 1.,\n",
       "        0., 0., 0., 0., 2., 0., 1., 1., 0., 0., 2., 0., 0., 0., 0., 0., 0.,\n",
       "        0., 0., 1., 0., 0., 0., 0., 1., 0., 0., 0., 0., 0., 0., 0., 0., 0.,\n",
       "        0., 0., 0., 0., 0., 0., 0., 0., 0., 0., 0., 0., 0., 0., 0., 0., 0.,\n",
       "        0., 0., 0., 0., 0., 1., 0., 1., 0., 0., 0., 0., 0., 1., 0., 1., 0.,\n",
       "        2., 1., 1., 0., 1., 0., 0., 0., 0., 0., 2., 1., 0., 0., 0., 1., 1.,\n",
       "        0., 0., 1., 1., 2., 2., 1., 1., 2., 0., 0., 1., 1., 0., 0., 0., 1.,\n",
       "        0., 0., 0., 1., 0., 0., 1., 0., 0., 0., 1., 0., 1., 1., 0., 1., 0.,\n",
       "        1., 0., 3., 1., 2., 0., 0., 0., 1., 0., 1., 0., 2., 1., 0., 0., 0.,\n",
       "        1., 0., 0., 0., 1., 0., 1., 0., 0., 0., 1., 0., 1., 1., 0., 2., 1.]),\n",
       " array([  0,   1,   2,   3,   4,   5,   6,   7,   8,   9,  10,  11,  12,\n",
       "         13,  14,  15,  16,  17,  18,  19,  20,  21,  22,  23,  24,  25,\n",
       "         26,  27,  28,  29,  30,  31,  32,  33,  34,  35,  36,  37,  38,\n",
       "         39,  40,  41,  42,  43,  44,  45,  46,  47,  48,  49,  50,  51,\n",
       "         52,  53,  54,  55,  56,  57,  58,  59,  60,  61,  62,  63,  64,\n",
       "         65,  66,  67,  68,  69,  70,  71,  72,  73,  74,  75,  76,  77,\n",
       "         78,  79,  80,  81,  82,  83,  84,  85,  86,  87,  88,  89,  90,\n",
       "         91,  92,  93,  94,  95,  96,  97,  98,  99, 100, 101, 102, 103,\n",
       "        104, 105, 106, 107, 108, 109, 110, 111, 112, 113, 114, 115, 116,\n",
       "        117, 118, 119, 120, 121, 122, 123, 124, 125, 126, 127, 128, 129,\n",
       "        130, 131, 132, 133, 134, 135, 136, 137, 138, 139, 140, 141, 142,\n",
       "        143, 144, 145, 146, 147, 148, 149, 150, 151, 152, 153, 154, 155,\n",
       "        156, 157, 158, 159, 160, 161, 162, 163, 164, 165, 166, 167, 168,\n",
       "        169, 170, 171, 172, 173, 174, 175, 176, 177, 178, 179, 180, 181,\n",
       "        182, 183, 184, 185, 186, 187, 188, 189, 190, 191, 192, 193, 194,\n",
       "        195, 196, 197, 198, 199, 200, 201, 202, 203, 204, 205, 206, 207,\n",
       "        208, 209, 210, 211, 212, 213, 214, 215, 216, 217, 218, 219, 220,\n",
       "        221, 222, 223, 224, 225, 226, 227, 228, 229, 230, 231, 232, 233,\n",
       "        234, 235, 236, 237, 238, 239, 240, 241, 242, 243, 244, 245, 246,\n",
       "        247, 248, 249, 250, 251, 252, 253, 254, 255]),\n",
       " <a list of 255 Patch objects>)"
      ]
     },
     "execution_count": 155,
     "metadata": {},
     "output_type": "execute_result"
    },
    {
     "data": {
      "image/png": "[encoded data removed]",
      "text/plain": [
       "<Figure size 432x288 with 1 Axes>"
      ]
     },
     "metadata": {
      "needs_background": "light"
     },
     "output_type": "display_data"
    }
   ],
   "source": [
    "# Testing your work, we will compare your histogram with that of ours\n",
    "# There should be a noticable difference between the histograms of jeans and cotton\n",
    "img = rgb2gray(io.imread('imgs_patches/jeans1.jpg'))\n",
    "hist = get_lbp_hist((img*255).astype('uint8'))\n",
    "plt.hist(hist, bins=range((2 ** 8)))\n"
   ]
  },
  {
   "cell_type": "code",
   "execution_count": 120,
   "metadata": {},
   "outputs": [
    {
     "data": {
      "text/plain": [
       "(array([1., 2., 3., 3., 6., 3., 5., 7., 4., 3., 3., 2., 2., 1., 1., 3., 3.,\n",
       "        2., 1., 2., 2., 0., 1., 0., 0., 0., 0., 0., 1., 0., 0., 0., 1., 1.,\n",
       "        0., 1., 0., 2., 1., 0., 2., 1., 0., 0., 0., 0., 0., 0., 0., 1., 0.,\n",
       "        0., 0., 0., 0., 0., 1., 1., 0., 1., 0., 0., 1., 0., 0., 0., 1., 2.,\n",
       "        1., 1., 1., 0., 0., 1., 0., 0., 1., 0., 0., 0., 0., 0., 0., 1., 0.,\n",
       "        0., 0., 0., 0., 0., 0., 0., 0., 1., 2., 0., 0., 1., 1., 0., 1., 0.,\n",
       "        2., 2., 0., 0., 0., 1., 0., 0., 2., 1., 1., 0., 0., 1., 0., 2., 0.,\n",
       "        2., 1., 0., 2., 1., 3., 1., 1., 2., 0., 1., 0., 0., 1., 1., 0., 0.,\n",
       "        1., 0., 0., 2., 1., 2., 1., 0., 0., 2., 0., 1., 0., 0., 2., 1., 0.,\n",
       "        1., 0., 0., 1., 1., 0., 1., 1., 0., 1., 0., 1., 0., 1., 2., 0., 0.,\n",
       "        1., 1., 0., 0., 1., 2., 0., 0., 1., 0., 0., 1., 0., 0., 2., 0., 0.,\n",
       "        1., 2., 1., 1., 0., 0., 0., 0., 2., 0., 2., 0., 0., 1., 0., 1., 0.,\n",
       "        1., 1., 0., 1., 0., 0., 0., 0., 0., 0., 0., 1., 0., 2., 0., 1., 0.,\n",
       "        0., 0., 0., 1., 0., 0., 0., 1., 0., 0., 1., 0., 0., 0., 3., 1., 0.,\n",
       "        0., 0., 1., 2., 0., 0., 1., 0., 0., 0., 1., 0., 1., 1., 2., 0., 3.]),\n",
       " array([  0,   1,   2,   3,   4,   5,   6,   7,   8,   9,  10,  11,  12,\n",
       "         13,  14,  15,  16,  17,  18,  19,  20,  21,  22,  23,  24,  25,\n",
       "         26,  27,  28,  29,  30,  31,  32,  33,  34,  35,  36,  37,  38,\n",
       "         39,  40,  41,  42,  43,  44,  45,  46,  47,  48,  49,  50,  51,\n",
       "         52,  53,  54,  55,  56,  57,  58,  59,  60,  61,  62,  63,  64,\n",
       "         65,  66,  67,  68,  69,  70,  71,  72,  73,  74,  75,  76,  77,\n",
       "         78,  79,  80,  81,  82,  83,  84,  85,  86,  87,  88,  89,  90,\n",
       "         91,  92,  93,  94,  95,  96,  97,  98,  99, 100, 101, 102, 103,\n",
       "        104, 105, 106, 107, 108, 109, 110, 111, 112, 113, 114, 115, 116,\n",
       "        117, 118, 119, 120, 121, 122, 123, 124, 125, 126, 127, 128, 129,\n",
       "        130, 131, 132, 133, 134, 135, 136, 137, 138, 139, 140, 141, 142,\n",
       "        143, 144, 145, 146, 147, 148, 149, 150, 151, 152, 153, 154, 155,\n",
       "        156, 157, 158, 159, 160, 161, 162, 163, 164, 165, 166, 167, 168,\n",
       "        169, 170, 171, 172, 173, 174, 175, 176, 177, 178, 179, 180, 181,\n",
       "        182, 183, 184, 185, 186, 187, 188, 189, 190, 191, 192, 193, 194,\n",
       "        195, 196, 197, 198, 199, 200, 201, 202, 203, 204, 205, 206, 207,\n",
       "        208, 209, 210, 211, 212, 213, 214, 215, 216, 217, 218, 219, 220,\n",
       "        221, 222, 223, 224, 225, 226, 227, 228, 229, 230, 231, 232, 233,\n",
       "        234, 235, 236, 237, 238, 239, 240, 241, 242, 243, 244, 245, 246,\n",
       "        247, 248, 249, 250, 251, 252, 253, 254, 255]),\n",
       " <a list of 255 Patch objects>)"
      ]
     },
     "execution_count": 120,
     "metadata": {},
     "output_type": "execute_result"
    },
    {
     "data": {
      "image/png": "[encoded data removed]",
      "text/plain": [
       "<Figure size 432x288 with 1 Axes>"
      ]
     },
     "metadata": {
      "needs_background": "light"
     },
     "output_type": "display_data"
    }
   ],
   "source": [
    "# Testing your work, we will compare your histogram with that of ours\n",
    "# There should be a noticable difference between the histograms of jeans and cotton\n",
    "img = rgb2gray(io.imread('imgs_patches/cotton1.jpg'))\n",
    "hist = get_lbp_hist(img)\n",
    "plt.hist(hist, bins=range((2 ** 8)))\n"
   ]
  }
 ],
 "metadata": {
  "kernelspec": {
   "display_name": "Python 3",
   "language": "python",
   "name": "python3"
  },
  "language_info": {
   "codemirror_mode": {
    "name": "ipython",
    "version": 3
   },
   "file_extension": ".py",
   "mimetype": "text/x-python",
   "name": "python",
   "nbconvert_exporter": "python",
   "pygments_lexer": "ipython3",
   "version": "3.8.3"
  }
 },
 "nbformat": 4,
 "nbformat_minor": 2
}
